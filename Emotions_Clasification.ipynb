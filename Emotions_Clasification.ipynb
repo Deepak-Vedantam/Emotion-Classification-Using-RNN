{
  "nbformat": 4,
  "nbformat_minor": 0,
  "metadata": {
    "colab": {
      "name": "Emotions Clasification.ipynb",
      "provenance": [],
      "collapsed_sections": []
    },
    "kernelspec": {
      "name": "python3",
      "display_name": "Python 3"
    },
    "accelerator": "GPU"
  },
  "cells": [
    {
      "cell_type": "markdown",
      "metadata": {
        "id": "SfwEUAWA3HAb"
      },
      "source": [
        "## Import Necessary Libraries"
      ]
    },
    {
      "cell_type": "code",
      "metadata": {
        "id": "G7rHKL0KNteY"
      },
      "source": [
        "import numpy as np\n",
        "import keras\n",
        "from  keras.preprocessing.text import Tokenizer\n",
        "from keras.preprocessing.sequence import pad_sequences\n",
        "import os\n",
        "import pandas as pd\n",
        "from keras.utils import to_categorical\n",
        "import matplotlib.pyplot as plt\n",
        "import scikitplot\n",
        "from scikitplot.metrics import plot_confusion_matrix"
      ],
      "execution_count": 197,
      "outputs": []
    },
    {
      "cell_type": "markdown",
      "metadata": {
        "id": "r1dtvdVm3Wqq"
      },
      "source": [
        "#Create a Dataframe for reading and analysing the text files easily"
      ]
    },
    {
      "cell_type": "code",
      "metadata": {
        "id": "uVI0V45VPqkH"
      },
      "source": [
        "df_train = pd.read_csv('/content/train.txt', header =None, sep =';', names = ['Input','Sentiment'], encoding='utf-8')\n",
        "df_test = pd.read_csv('/content/test.txt', header = None, sep =';', names = ['Input','Sentiment'],encoding='utf-8')\n",
        "df_val=pd.read_csv('/content/val.txt',header=None,sep=';',names=['Input','Sentiment'],encoding='utf-8')"
      ],
      "execution_count": 92,
      "outputs": []
    },
    {
      "cell_type": "code",
      "metadata": {
        "colab": {
          "base_uri": "https://localhost:8080/"
        },
        "id": "t5UXwqnoOkGV",
        "outputId": "2714606a-f695-45ff-c0d9-1d7234d37a6f"
      },
      "source": [
        "df_train.Sentiment.value_counts()"
      ],
      "execution_count": 40,
      "outputs": [
        {
          "output_type": "execute_result",
          "data": {
            "text/plain": [
              "joy         5362\n",
              "sadness     4666\n",
              "anger       2159\n",
              "fear        1937\n",
              "love        1304\n",
              "surprise     572\n",
              "Name: Sentiment, dtype: int64"
            ]
          },
          "metadata": {
            "tags": []
          },
          "execution_count": 40
        }
      ]
    },
    {
      "cell_type": "markdown",
      "metadata": {
        "id": "weLVgoak3lR0"
      },
      "source": [
        "## Reading the Train and Validation Data"
      ]
    },
    {
      "cell_type": "code",
      "metadata": {
        "id": "8jfpnq0qPEUF"
      },
      "source": [
        "X=df_train['Input']\n"
      ],
      "execution_count": 91,
      "outputs": []
    },
    {
      "cell_type": "code",
      "metadata": {
        "id": "YsdBhABuRkc2"
      },
      "source": [
        "lst=[]\n",
        "for i in X:\n",
        "  lst.append(len(i))\n"
      ],
      "execution_count": 69,
      "outputs": []
    },
    {
      "cell_type": "code",
      "metadata": {
        "colab": {
          "base_uri": "https://localhost:8080/",
          "height": 297
        },
        "id": "Lf_wMk5wR7Wd",
        "outputId": "0f7f1b70-bd55-428f-f798-89f8c2f998c0"
      },
      "source": [
        "len1=pd.DataFrame(lst)\n",
        "len1.describe()"
      ],
      "execution_count": 70,
      "outputs": [
        {
          "output_type": "execute_result",
          "data": {
            "text/html": [
              "<div>\n",
              "<style scoped>\n",
              "    .dataframe tbody tr th:only-of-type {\n",
              "        vertical-align: middle;\n",
              "    }\n",
              "\n",
              "    .dataframe tbody tr th {\n",
              "        vertical-align: top;\n",
              "    }\n",
              "\n",
              "    .dataframe thead th {\n",
              "        text-align: right;\n",
              "    }\n",
              "</style>\n",
              "<table border=\"1\" class=\"dataframe\">\n",
              "  <thead>\n",
              "    <tr style=\"text-align: right;\">\n",
              "      <th></th>\n",
              "      <th>0</th>\n",
              "    </tr>\n",
              "  </thead>\n",
              "  <tbody>\n",
              "    <tr>\n",
              "      <th>count</th>\n",
              "      <td>16000.000000</td>\n",
              "    </tr>\n",
              "    <tr>\n",
              "      <th>mean</th>\n",
              "      <td>96.845812</td>\n",
              "    </tr>\n",
              "    <tr>\n",
              "      <th>std</th>\n",
              "      <td>55.904953</td>\n",
              "    </tr>\n",
              "    <tr>\n",
              "      <th>min</th>\n",
              "      <td>7.000000</td>\n",
              "    </tr>\n",
              "    <tr>\n",
              "      <th>25%</th>\n",
              "      <td>53.000000</td>\n",
              "    </tr>\n",
              "    <tr>\n",
              "      <th>50%</th>\n",
              "      <td>86.000000</td>\n",
              "    </tr>\n",
              "    <tr>\n",
              "      <th>75%</th>\n",
              "      <td>129.000000</td>\n",
              "    </tr>\n",
              "    <tr>\n",
              "      <th>max</th>\n",
              "      <td>300.000000</td>\n",
              "    </tr>\n",
              "  </tbody>\n",
              "</table>\n",
              "</div>"
            ],
            "text/plain": [
              "                  0\n",
              "count  16000.000000\n",
              "mean      96.845812\n",
              "std       55.904953\n",
              "min        7.000000\n",
              "25%       53.000000\n",
              "50%       86.000000\n",
              "75%      129.000000\n",
              "max      300.000000"
            ]
          },
          "metadata": {
            "tags": []
          },
          "execution_count": 70
        }
      ]
    },
    {
      "cell_type": "code",
      "metadata": {
        "id": "JBAgUQh-1cCn"
      },
      "source": [
        "cts=[]\n",
        "for i in range(7,301):\n",
        "   ct=0\n",
        "   for k in lst:\n",
        "     if k==i:\n",
        "       ct+=1\n",
        "   cts.append(ct)"
      ],
      "execution_count": 123,
      "outputs": []
    },
    {
      "cell_type": "markdown",
      "metadata": {
        "id": "dwTyJqGO4JM0"
      },
      "source": [
        "#Trying to fix a length for the embedding layers' input"
      ]
    },
    {
      "cell_type": "code",
      "metadata": {
        "colab": {
          "base_uri": "https://localhost:8080/",
          "height": 266
        },
        "id": "UOYkt05D2Pkc",
        "outputId": "fbb734a9-cd62-4f8e-aeb6-cfba165e505e"
      },
      "source": [
        "plt.bar(range(7,301),cts)\n",
        "plt.show()"
      ],
      "execution_count": 130,
      "outputs": [
        {
          "output_type": "display_data",
          "data": {
            "image/png": "[encoded data removed]",
            "text/plain": [
              "<Figure size 432x288 with 1 Axes>"
            ]
          },
          "metadata": {
            "tags": [],
            "needs_background": "light"
          }
        }
      ]
    },
    {
      "cell_type": "markdown",
      "metadata": {
        "id": "Vkx0Skhw4RTE"
      },
      "source": [
        "#Using The tokenizer Class to convert the sentences into word vectors"
      ]
    },
    {
      "cell_type": "code",
      "metadata": {
        "id": "HPqJjmc2Qd1q"
      },
      "source": [
        "tokenizer=Tokenizer(15212,lower=True,oov_token='UNK')\n",
        "tokenizer.fit_on_texts(X)"
      ],
      "execution_count": 87,
      "outputs": []
    },
    {
      "cell_type": "code",
      "metadata": {
        "colab": {
          "base_uri": "https://localhost:8080/"
        },
        "id": "QAR53xsMQ9hp",
        "outputId": "85afe77d-62ca-4db5-9030-985c63cccdf1"
      },
      "source": [
        "len(tokenizer.word_index)"
      ],
      "execution_count": 88,
      "outputs": [
        {
          "output_type": "execute_result",
          "data": {
            "text/plain": [
              "15213"
            ]
          },
          "metadata": {
            "tags": []
          },
          "execution_count": 88
        }
      ]
    },
    {
      "cell_type": "code",
      "metadata": {
        "id": "OPlKIuEJRHaJ"
      },
      "source": [
        "X_train=tokenizer.texts_to_sequences(X)\n",
        "X_train_pad=pad_sequences(X_train,maxlen=80,padding='post')"
      ],
      "execution_count": 89,
      "outputs": []
    },
    {
      "cell_type": "code",
      "metadata": {
        "id": "klWThk5xSiTj"
      },
      "source": [
        "df_train['Sentiment']=df_train.Sentiment.replace({'joy':0,'anger':1,'love':2,'sadness':3,'fear':4,'surprise':5})"
      ],
      "execution_count": 93,
      "outputs": []
    },
    {
      "cell_type": "code",
      "metadata": {
        "id": "IcB2LdpDTV1R"
      },
      "source": [
        "Y_train=df_train['Sentiment'].values\n"
      ],
      "execution_count": 94,
      "outputs": []
    },
    {
      "cell_type": "markdown",
      "metadata": {
        "id": "1Nxr63i-4eWH"
      },
      "source": [
        "#One hot Encoding the Emotion Values"
      ]
    },
    {
      "cell_type": "code",
      "metadata": {
        "id": "Cq4bajBpWKnU"
      },
      "source": [
        "Y_train_f=to_categorical(Y_train)"
      ],
      "execution_count": 95,
      "outputs": []
    },
    {
      "cell_type": "code",
      "metadata": {
        "colab": {
          "base_uri": "https://localhost:8080/"
        },
        "id": "jM-qVgjjXHlb",
        "outputId": "598f6ccc-4000-49a8-b46e-34b06d0fdd53"
      },
      "source": [
        "Y_train_f[:6]"
      ],
      "execution_count": 96,
      "outputs": [
        {
          "output_type": "execute_result",
          "data": {
            "text/plain": [
              "array([[0., 0., 0., 1., 0., 0.],\n",
              "       [0., 0., 0., 1., 0., 0.],\n",
              "       [0., 1., 0., 0., 0., 0.],\n",
              "       [0., 0., 1., 0., 0., 0.],\n",
              "       [0., 1., 0., 0., 0., 0.],\n",
              "       [0., 0., 0., 1., 0., 0.]], dtype=float32)"
            ]
          },
          "metadata": {
            "tags": []
          },
          "execution_count": 96
        }
      ]
    },
    {
      "cell_type": "code",
      "metadata": {
        "id": "PKJwSxEgYhay"
      },
      "source": [
        "X_val=df_val['Input']\n",
        "Y_val=df_val.Sentiment.replace({'joy':0,'anger':1,'love':2,'sadness':3,'fear':4,'surprise':5})"
      ],
      "execution_count": 97,
      "outputs": []
    },
    {
      "cell_type": "code",
      "metadata": {
        "id": "v-5tPraZYYH6"
      },
      "source": [
        "X_val_f=tokenizer.texts_to_sequences(X_val)\n",
        "X_val_pad=pad_sequences(X_val_f,maxlen=80,padding='post')"
      ],
      "execution_count": 98,
      "outputs": []
    },
    {
      "cell_type": "code",
      "metadata": {
        "id": "rLIVsrvgZLu_"
      },
      "source": [
        "Y_val_f=to_categorical(Y_val)"
      ],
      "execution_count": 99,
      "outputs": []
    },
    {
      "cell_type": "code",
      "metadata": {
        "colab": {
          "base_uri": "https://localhost:8080/"
        },
        "id": "zKw08DYYZLxl",
        "outputId": "914b33da-9bc8-463f-f87d-281ba533a2f8"
      },
      "source": [
        "Y_val_f[:6]"
      ],
      "execution_count": 100,
      "outputs": [
        {
          "output_type": "execute_result",
          "data": {
            "text/plain": [
              "array([[0., 0., 0., 1., 0., 0.],\n",
              "       [0., 0., 0., 1., 0., 0.],\n",
              "       [0., 0., 1., 0., 0., 0.],\n",
              "       [0., 1., 0., 0., 0., 0.],\n",
              "       [1., 0., 0., 0., 0., 0.],\n",
              "       [1., 0., 0., 0., 0., 0.]], dtype=float32)"
            ]
          },
          "metadata": {
            "tags": []
          },
          "execution_count": 100
        }
      ]
    },
    {
      "cell_type": "code",
      "metadata": {
        "id": "fTW2fLQZU8rx"
      },
      "source": [
        "from keras.models import Sequential\n",
        "from keras.layers import LSTM,Bidirectional,Dense,Embedding,Dropout\n"
      ],
      "execution_count": 182,
      "outputs": []
    },
    {
      "cell_type": "markdown",
      "metadata": {
        "id": "zzZgSic_4mb8"
      },
      "source": [
        "#Creating a Model"
      ]
    },
    {
      "cell_type": "code",
      "metadata": {
        "colab": {
          "base_uri": "https://localhost:8080/"
        },
        "id": "F_tdJHIDVLqA",
        "outputId": "7ae62ccd-8288-4e6b-b614-c8080cd51a2a"
      },
      "source": [
        "model=Sequential()\n",
        "model.add(Embedding(15212,64,input_length=80))\n",
        "model.add(Dropout(0.6))\n",
        "model.add(Bidirectional(LSTM(80,return_sequences=True)))\n",
        "model.add(Bidirectional(LSTM(160)))\n",
        "model.add(Dense(6,activation='softmax'))\n",
        "print(model.summary())"
      ],
      "execution_count": 155,
      "outputs": [
        {
          "output_type": "stream",
          "text": [
            "Model: \"sequential_6\"\n",
            "_________________________________________________________________\n",
            "Layer (type)                 Output Shape              Param #   \n",
            "=================================================================\n",
            "embedding_6 (Embedding)      (None, 80, 64)            973568    \n",
            "_________________________________________________________________\n",
            "dropout_6 (Dropout)          (None, 80, 64)            0         \n",
            "_________________________________________________________________\n",
            "bidirectional_12 (Bidirectio (None, 80, 160)           92800     \n",
            "_________________________________________________________________\n",
            "bidirectional_13 (Bidirectio (None, 320)               410880    \n",
            "_________________________________________________________________\n",
            "dense_8 (Dense)              (None, 6)                 1926      \n",
            "=================================================================\n",
            "Total params: 1,479,174\n",
            "Trainable params: 1,479,174\n",
            "Non-trainable params: 0\n",
            "_________________________________________________________________\n",
            "None\n"
          ],
          "name": "stdout"
        }
      ]
    },
    {
      "cell_type": "markdown",
      "metadata": {
        "id": "lQwbhHiO4rM7"
      },
      "source": [
        "#Compiling and running the model"
      ]
    },
    {
      "cell_type": "code",
      "metadata": {
        "id": "_KYfMEyXVxK2"
      },
      "source": [
        "model.compile(optimizer='adam',loss='categorical_crossentropy',metrics=['accuracy'])"
      ],
      "execution_count": 156,
      "outputs": []
    },
    {
      "cell_type": "code",
      "metadata": {
        "colab": {
          "base_uri": "https://localhost:8080/"
        },
        "id": "J5UxHV4EV_qA",
        "outputId": "c1760502-94ff-4f81-9ead-59ddddab1149"
      },
      "source": [
        "hist=model.fit(X_train_pad,Y_train_f,epochs=12,validation_data=(X_val_pad,Y_val_f))"
      ],
      "execution_count": 157,
      "outputs": [
        {
          "output_type": "stream",
          "text": [
            "Epoch 1/12\n",
            "500/500 [==============================] - 14s 28ms/step - loss: 1.2101 - accuracy: 0.5326 - val_loss: 0.6482 - val_accuracy: 0.7805\n",
            "Epoch 2/12\n",
            "500/500 [==============================] - 13s 25ms/step - loss: 0.4587 - accuracy: 0.8410 - val_loss: 0.2860 - val_accuracy: 0.9020\n",
            "Epoch 3/12\n",
            "500/500 [==============================] - 13s 26ms/step - loss: 0.2675 - accuracy: 0.9056 - val_loss: 0.2016 - val_accuracy: 0.9200\n",
            "Epoch 4/12\n",
            "500/500 [==============================] - 13s 26ms/step - loss: 0.1887 - accuracy: 0.9324 - val_loss: 0.2256 - val_accuracy: 0.9175\n",
            "Epoch 5/12\n",
            "500/500 [==============================] - 13s 26ms/step - loss: 0.1613 - accuracy: 0.9417 - val_loss: 0.1885 - val_accuracy: 0.9260\n",
            "Epoch 6/12\n",
            "500/500 [==============================] - 13s 26ms/step - loss: 0.1290 - accuracy: 0.9516 - val_loss: 0.1870 - val_accuracy: 0.9185\n",
            "Epoch 7/12\n",
            "500/500 [==============================] - 13s 26ms/step - loss: 0.1102 - accuracy: 0.9584 - val_loss: 0.1646 - val_accuracy: 0.9305\n",
            "Epoch 8/12\n",
            "500/500 [==============================] - 13s 26ms/step - loss: 0.0962 - accuracy: 0.9634 - val_loss: 0.1660 - val_accuracy: 0.9315\n",
            "Epoch 9/12\n",
            "500/500 [==============================] - 13s 26ms/step - loss: 0.0817 - accuracy: 0.9681 - val_loss: 0.1692 - val_accuracy: 0.9360\n",
            "Epoch 10/12\n",
            "500/500 [==============================] - 13s 26ms/step - loss: 0.0759 - accuracy: 0.9697 - val_loss: 0.1549 - val_accuracy: 0.9345\n",
            "Epoch 11/12\n",
            "500/500 [==============================] - 13s 26ms/step - loss: 0.0658 - accuracy: 0.9741 - val_loss: 0.1726 - val_accuracy: 0.9345\n",
            "Epoch 12/12\n",
            "500/500 [==============================] - 13s 26ms/step - loss: 0.0583 - accuracy: 0.9775 - val_loss: 0.1865 - val_accuracy: 0.9335\n"
          ],
          "name": "stdout"
        }
      ]
    },
    {
      "cell_type": "code",
      "metadata": {
        "colab": {
          "base_uri": "https://localhost:8080/",
          "height": 265
        },
        "id": "r9ZX9npB95PY",
        "outputId": "9e3a5747-bc0e-4063-8ae5-6d047d6b94b6"
      },
      "source": [
        "plt.plot(hist.history['accuracy'],c='b',label='train')\n",
        "plt.plot(hist.history['val_accuracy'],c='r',label='validation')\n",
        "plt.legend(loc='lower right')\n",
        "plt.show()"
      ],
      "execution_count": 168,
      "outputs": [
        {
          "output_type": "display_data",
          "data": {
            "image/png": "[encoded data removed]",
            "text/plain": [
              "<Figure size 432x288 with 1 Axes>"
            ]
          },
          "metadata": {
            "tags": [],
            "needs_background": "light"
          }
        }
      ]
    },
    {
      "cell_type": "code",
      "metadata": {
        "colab": {
          "base_uri": "https://localhost:8080/",
          "height": 265
        },
        "id": "DPXjVCJe-dLM",
        "outputId": "f520d1fa-d97f-4c03-f4da-1ef837a0f8d1"
      },
      "source": [
        "plt.plot(hist.history['loss'],c='orange',label='train')\n",
        "plt.plot(hist.history['val_loss'],c='g',label='validation')\n",
        "plt.legend(loc='upper right')\n",
        "plt.show()"
      ],
      "execution_count": 169,
      "outputs": [
        {
          "output_type": "display_data",
          "data": {
            "image/png": "[encoded data removed]",
            "text/plain": [
              "<Figure size 432x288 with 1 Axes>"
            ]
          },
          "metadata": {
            "tags": [],
            "needs_background": "light"
          }
        }
      ]
    },
    {
      "cell_type": "markdown",
      "metadata": {
        "id": "T8wkWWRM4wj5"
      },
      "source": [
        "#Checking for Test Data"
      ]
    },
    {
      "cell_type": "code",
      "metadata": {
        "id": "qiqCoFvpWFlI"
      },
      "source": [
        "X_test=df_test['Input']\n",
        "Y_test=df_test.Sentiment.replace({'joy':0,'anger':1,'love':2,'sadness':3,'fear':4,'surprise':5})"
      ],
      "execution_count": 105,
      "outputs": []
    },
    {
      "cell_type": "code",
      "metadata": {
        "id": "a_puRzZNaI_i"
      },
      "source": [
        "X_test_f=tokenizer.texts_to_sequences(X_test)\n",
        "X_test_pad=pad_sequences(X_test_f,maxlen=80,padding='post')"
      ],
      "execution_count": 106,
      "outputs": []
    },
    {
      "cell_type": "code",
      "metadata": {
        "id": "ZWeCFXqBaUeF"
      },
      "source": [
        "Y_test_f=to_categorical(Y_test)"
      ],
      "execution_count": 107,
      "outputs": []
    },
    {
      "cell_type": "code",
      "metadata": {
        "colab": {
          "base_uri": "https://localhost:8080/"
        },
        "id": "iVhdSBnWcV3q",
        "outputId": "0aaf8ab6-ba10-4816-94be-fdddaeeb2eda"
      },
      "source": [
        "X_test_pad.shape"
      ],
      "execution_count": 108,
      "outputs": [
        {
          "output_type": "execute_result",
          "data": {
            "text/plain": [
              "(2000, 80)"
            ]
          },
          "metadata": {
            "tags": []
          },
          "execution_count": 108
        }
      ]
    },
    {
      "cell_type": "code",
      "metadata": {
        "colab": {
          "base_uri": "https://localhost:8080/"
        },
        "id": "K2gXQ80oaaok",
        "outputId": "747bf3f0-3126-4ea2-b730-a832de1447ff"
      },
      "source": [
        "Y_test_f[:7]"
      ],
      "execution_count": 109,
      "outputs": [
        {
          "output_type": "execute_result",
          "data": {
            "text/plain": [
              "array([[0., 0., 0., 1., 0., 0.],\n",
              "       [0., 0., 0., 1., 0., 0.],\n",
              "       [0., 0., 0., 1., 0., 0.],\n",
              "       [1., 0., 0., 0., 0., 0.],\n",
              "       [0., 0., 0., 1., 0., 0.],\n",
              "       [0., 0., 0., 0., 1., 0.],\n",
              "       [0., 1., 0., 0., 0., 0.]], dtype=float32)"
            ]
          },
          "metadata": {
            "tags": []
          },
          "execution_count": 109
        }
      ]
    },
    {
      "cell_type": "markdown",
      "metadata": {
        "id": "KI2H_6jh444s"
      },
      "source": [
        "#Accuracy for Test Data"
      ]
    },
    {
      "cell_type": "code",
      "metadata": {
        "colab": {
          "base_uri": "https://localhost:8080/"
        },
        "id": "PWY-3GJSacff",
        "outputId": "b28b942e-d800-4469-cc29-fbdbfedfb1e9"
      },
      "source": [
        "model.evaluate(X_test_pad,Y_test_f)"
      ],
      "execution_count": 187,
      "outputs": [
        {
          "output_type": "stream",
          "text": [
            "63/63 [==============================] - 1s 10ms/step - loss: 0.1803 - accuracy: 0.9370\n"
          ],
          "name": "stdout"
        },
        {
          "output_type": "execute_result",
          "data": {
            "text/plain": [
              "[0.1803499460220337, 0.9369999766349792]"
            ]
          },
          "metadata": {
            "tags": []
          },
          "execution_count": 187
        }
      ]
    },
    {
      "cell_type": "markdown",
      "metadata": {
        "id": "eDUBbS9dCnqc"
      },
      "source": [
        "#Plotting the Confusion matrix "
      ]
    },
    {
      "cell_type": "code",
      "metadata": {
        "id": "xSBIEISGA6Id"
      },
      "source": [
        "Y_pred=model.predict_classes(X_test_pad)"
      ],
      "execution_count": 188,
      "outputs": []
    },
    {
      "cell_type": "code",
      "metadata": {
        "colab": {
          "base_uri": "https://localhost:8080/",
          "height": 312
        },
        "id": "atULoe4HAqZv",
        "outputId": "d949ea61-ebe5-4f7a-f804-9676542f4cf5"
      },
      "source": [
        "plot_confusion_matrix(Y_test,Y_pred)"
      ],
      "execution_count": 200,
      "outputs": [
        {
          "output_type": "execute_result",
          "data": {
            "text/plain": [
              "<matplotlib.axes._subplots.AxesSubplot at 0x7fcc524d43c8>"
            ]
          },
          "metadata": {
            "tags": []
          },
          "execution_count": 200
        },
        {
          "output_type": "display_data",
          "data": {
            "image/png": "[encoded data removed]",
            "text/plain": [
              "<Figure size 432x288 with 2 Axes>"
            ]
          },
          "metadata": {
            "tags": [],
            "needs_background": "light"
          }
        }
      ]
    },
    {
      "cell_type": "code",
      "metadata": {
        "colab": {
          "base_uri": "https://localhost:8080/"
        },
        "id": "GebauRAfChiq",
        "outputId": "b66eb181-8ce9-44ea-b7f7-88ffe6027a2c"
      },
      "source": [
        "print(classification_report(Y_test,Y_pred))"
      ],
      "execution_count": 201,
      "outputs": [
        {
          "output_type": "stream",
          "text": [
            "              precision    recall  f1-score   support\n",
            "\n",
            "           0       0.97      0.93      0.95       695\n",
            "           1       0.96      0.93      0.94       275\n",
            "           2       0.80      0.92      0.86       159\n",
            "           3       0.97      0.98      0.97       581\n",
            "           4       0.87      0.95      0.91       224\n",
            "           5       0.83      0.65      0.73        66\n",
            "\n",
            "    accuracy                           0.94      2000\n",
            "   macro avg       0.90      0.89      0.89      2000\n",
            "weighted avg       0.94      0.94      0.94      2000\n",
            "\n"
          ],
          "name": "stdout"
        }
      ]
    },
    {
      "cell_type": "markdown",
      "metadata": {
        "id": "5SG8AtHq48uQ"
      },
      "source": [
        "#Creating a Function to check for Your own Sentence"
      ]
    },
    {
      "cell_type": "code",
      "metadata": {
        "id": "N4vDT3Eeft2i"
      },
      "source": [
        "def get_key(value):\n",
        "    dictionary={'joy':0,'anger':1,'love':2,'sadness':3,'fear':4,'surprise':5}\n",
        "    for key,val in dictionary.items():\n",
        "      if (val==value):\n",
        "        return key\n",
        "\n"
      ],
      "execution_count": 111,
      "outputs": []
    },
    {
      "cell_type": "code",
      "metadata": {
        "id": "AQuJATahalLP"
      },
      "source": [
        "def predict(sentence):\n",
        "  sentence_lst=[]\n",
        "  sentence_lst.append(sentence)\n",
        "  sentence_seq=tokenizer.texts_to_sequences(sentence_lst)\n",
        "  sentence_padded=pad_sequences(sentence_seq,maxlen=80,padding='post')\n",
        "  ans=get_key(model.predict_classes(sentence_padded))\n",
        "  print(\"The emotion predicted is\",ans)"
      ],
      "execution_count": 112,
      "outputs": []
    },
    {
      "cell_type": "markdown",
      "metadata": {
        "id": "J1_JYp1N5CFm"
      },
      "source": [
        "#Check for Your Own Sentence"
      ]
    },
    {
      "cell_type": "code",
      "metadata": {
        "colab": {
          "base_uri": "https://localhost:8080/"
        },
        "id": "VcTTjsficgqf",
        "outputId": "3e5e5d52-08eb-4c7c-b092-22b437bfe787"
      },
      "source": [
        "predict(str(input('Enter a sentence : ')))\n"
      ],
      "execution_count": 173,
      "outputs": [
        {
          "output_type": "stream",
          "text": [
            "Enter a sentence : haha love it\n",
            "The emotion predicted is joy\n"
          ],
          "name": "stdout"
        }
      ]
    },
    {
      "cell_type": "code",
      "metadata": {
        "colab": {
          "base_uri": "https://localhost:8080/"
        },
        "id": "_hiYzFqN_h_-",
        "outputId": "3f96cb05-e759-48d8-eba8-94f7d1ed84b3"
      },
      "source": [
        "predict(str(input('Enter a sentence : ')))\n"
      ],
      "execution_count": 176,
      "outputs": [
        {
          "output_type": "stream",
          "text": [
            "Enter a sentence :  i am really scared if ghosts\n",
            "The emotion predicted is fear\n"
          ],
          "name": "stdout"
        }
      ]
    },
    {
      "cell_type": "code",
      "metadata": {
        "colab": {
          "base_uri": "https://localhost:8080/"
        },
        "id": "R3a2rn7F_jZi",
        "outputId": "3edbd756-6382-421e-fa55-ceb89e5cc95e"
      },
      "source": [
        "predict(str(input('Enter a sentence : ')))\n"
      ],
      "execution_count": 180,
      "outputs": [
        {
          "output_type": "stream",
          "text": [
            "Enter a sentence : i am gonna punch you\n",
            "The emotion predicted is anger\n"
          ],
          "name": "stdout"
        }
      ]
    }
  ]
}